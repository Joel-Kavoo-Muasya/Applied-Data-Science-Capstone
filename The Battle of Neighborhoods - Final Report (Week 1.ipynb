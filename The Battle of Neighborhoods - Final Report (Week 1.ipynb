{
    "cells": [
        {
            "cell_type": "markdown",
            "metadata": {
                "collapsed": true
            },
            "source": "# Coursera Capstone Project"
        },
        {
            "cell_type": "markdown",
            "metadata": {},
            "source": "## The Battle of Neighborhoods - Final Report (Week 1 and 2)"
        },
        {
            "cell_type": "markdown",
            "metadata": {},
            "source": "### Upload Libraries"
        },
        {
            "cell_type": "code",
            "execution_count": null,
            "metadata": {},
            "outputs": [
                {
                    "name": "stdout",
                    "output_type": "stream",
                    "text": "Solving environment: done\n\n## Package Plan ##\n\n  environment location: /opt/conda/envs/Python36\n\n  added / updated specs: \n    - geopy\n\n\nThe following packages will be downloaded:\n\n    package                    |            build\n    ---------------------------|-----------------\n    ca-certificates-2020.6.20  |       hecda079_0         145 KB  conda-forge\n    certifi-2020.6.20          |   py36h9f0ad1d_0         151 KB  conda-forge\n    openssl-1.1.1g             |       h516909a_0         2.1 MB  conda-forge\n    geographiclib-1.50         |             py_0          34 KB  conda-forge\n    geopy-2.0.0                |     pyh9f0ad1d_0          63 KB  conda-forge\n    python_abi-3.6             |          1_cp36m           4 KB  conda-forge\n    ------------------------------------------------------------\n                                           Total:         2.5 MB\n\nThe following NEW packages will be INSTALLED:\n\n    geographiclib:   1.50-py_0          conda-forge\n    geopy:           2.0.0-pyh9f0ad1d_0 conda-forge\n    python_abi:      3.6-1_cp36m        conda-forge\n\nThe following packages will be UPDATED:\n\n    ca-certificates: 2020.1.1-0                     --> 2020.6.20-hecda079_0     conda-forge\n    certifi:         2020.6.20-py36_0               --> 2020.6.20-py36h9f0ad1d_0 conda-forge\n    openssl:         1.1.1g-h7b6447c_0              --> 1.1.1g-h516909a_0        conda-forge\n\n\nDownloading and Extracting Packages\nca-certificates-2020 | 145 KB    | ##################################### | 100% \ncertifi-2020.6.20    | 151 KB    | ##################################### | 100% \nopenssl-1.1.1g       | 2.1 MB    | ##################################### | 100% \ngeographiclib-1.50   | 34 KB     | ##################################### | 100% \ngeopy-2.0.0          | 63 KB     | ##################################### | 100% \npython_abi-3.6       | 4 KB      | ##################################### | 100% \nPreparing transaction: done\nVerifying transaction: done\nExecuting transaction: done\nSolving environment: / "
                }
            ],
            "source": "import numpy as np # library to handle data in a vectorized manner\nimport time\nimport pandas as pd # library for data analsysis\npd.set_option('display.max_columns', None)\npd.set_option('display.max_rows', None)\n\nimport json # library to handle JSON files\nimport requests # library to handle requests\nfrom pandas.io.json import json_normalize # tranform JSON file into a pandas dataframe\n\n\n!conda install -c conda-forge geopy --yes # uncomment this line if you haven't completed the Foursquare API lab\nfrom geopy.geocoders import Nominatim # convert an address into latitude and longitude values\n\n!conda install -c conda-forge folium=0.5.0 --yes # uncomment this line if you haven't completed the Foursquare API lab\nimport folium # map rendering library\nimport folium # map rendering library\nfrom folium import plugins\n\n# Matplotlib and associated plotting modules\nimport matplotlib.cm as cm\nimport matplotlib.colors as colors\n\nimport seaborn as sns\n\n# import k-means from clustering stage\nfrom sklearn.cluster import KMeans\n\n\n\nprint('Libraries imported.')"
        },
        {
            "cell_type": "markdown",
            "metadata": {},
            "source": "## Coursera Capstone - REPORT"
        },
        {
            "cell_type": "markdown",
            "metadata": {},
            "source": "### Content"
        },
        {
            "cell_type": "markdown",
            "metadata": {},
            "source": "1. Introduction Section :\n\n1.1 Discussion of the \"backgroung situation\" leading to the problem at hand:\n\n1.2 Problem to be resolved\n\n1.3 Audience for this project.\n\n2. Data Section:\n\n2.1 Data of Current Situation (current residence place)\n\n2.2 Data required to resolve the problem\n\n2.3 Data sources and data manipulation\n\n3. Methodology section :\n\n3.1 Process steps and strategy to resolve the problem\n\n3.2 Data Science Methods, machine learing, mapping tools and exploratory data analysis.\n\n4. Results section\n\nDiscussion of the results and how they help to take a decision.\n\n5. Discussion section\n\nElaboration and discussion on any observations and/or recommendations for improvement.\n\n6. Conclusion section\n\nDesicison taken and Report Conclusion."
        },
        {
            "cell_type": "markdown",
            "metadata": {},
            "source": "# 1. Introduction Section :"
        },
        {
            "cell_type": "markdown",
            "metadata": {},
            "source": "## Discussion of the business problem and the audience who would be interested in this project."
        },
        {
            "cell_type": "markdown",
            "metadata": {},
            "source": "### 1.1 Scenario and Background"
        },
        {
            "cell_type": "markdown",
            "metadata": {},
            "source": "I am a data scientist currently residing in downtown Singapore. I currently live within walking distance to Downtown \"Telok Ayer MRT metro station\" therefore I have access to good public transportation to work. Likewise, I enjoy many ammenities in the neighborhood , such as international cousine restaurants, cafes, food shops and entertainment. I have been offered a great opportunity to work in Manhattan, NY. Although, I am very excited about it, I am a bit stress toward the process to secure a comparable place to live in Manhattan. Therefore, I decided to apply the learned skills during the Coursera course to explore ways to make sure my decision is factual and rewarding. Of course, there are alternatives to achieve the answer using available Google and Social media tools, but it rewarding doing it myself with learned tools."
        },
        {
            "cell_type": "markdown",
            "metadata": {},
            "source": "### 1.2 Problem to be resolved:"
        },
        {
            "cell_type": "markdown",
            "metadata": {},
            "source": "The challenge to resolve is being able to find a rental apartment unit in Manhattan NY that offers similar characteristics and benefits to my current situation. Therefore, in order to set a basis for comparison, I want to find a renta unit subject to the following conditions:\n\n- Apartment with min 2 bedrooms with monthly rent not to exceed US$7000/month\n- Unit located within walking distance (<=1.0 mile, 1.6 km) from a subway metro station in Manhattan\n- Area with ammenities and venues similar to the ones described for current location ( See item 2.1"
        },
        {
            "cell_type": "markdown",
            "metadata": {},
            "source": "### 1.3 Interested Audience"
        },
        {
            "cell_type": "markdown",
            "metadata": {},
            "source": "I believe this is a relevant project for a person or entity considering moving to a major city in Europe, US or Asia, since the approach and methodologies used here are applicable in all cases. The use of FourSquare data and mapping techniques combined with data analysis will help resolve the key questions arisen. Lastly, this project is a good practical case toward the development of Data Science skills.\n\n"
        },
        {
            "cell_type": "markdown",
            "metadata": {},
            "source": "# 2. Data Section:"
        },
        {
            "cell_type": "markdown",
            "metadata": {},
            "source": "### Description of the data and its sources that will be used to solve the problem"
        },
        {
            "cell_type": "markdown",
            "metadata": {},
            "source": "### 2.1 Data of Current Situation"
        },
        {
            "cell_type": "markdown",
            "metadata": {},
            "source": "I Currently reside in the neighborhood of 'Mccallum Street' in Downtonw Singapore. I use Foursquare to identify the venues around the area of residence which are then shown in the Singapore map shown in methodology and execution in section 3.0 . It serves as a reference for comparison with the desired future location in Manhattan NY"
        },
        {
            "cell_type": "markdown",
            "metadata": {},
            "source": "### 2.2 Data Required to resolve the problem"
        },
        {
            "cell_type": "markdown",
            "metadata": {},
            "source": "In order to make a good choice of a similar apartment in Manhattan NY, the following data is required: List/Information on neighborhoods form Manhattan with their Geodata ( latitud and longitud. List/Information about the subway metro stations in Manhattan with geodata. Listed apartments for rent in Manhattan area with descriptions ( how many beds, price, location, address) Venues and ammenities in the Manhattan neighborhoods (e.g. top 10) 2.3 sources and manipulation The list of Manhattan neighborhoods is worked out during LAb exercise during the course. A csv file was created which will be read in order to create a dataframe and its mapping. The csv file 'mh_neigh_data.csv' has the following below data structure. The file will be directly read to the Jupiter Notebook for convenience and space savings. The clustering of neighborhoods and mapping will be shown however. An algorythm was used to determine the geodata from Nominatim . The actual algorythm coding may be shown in 'markdown' mode becasues it takes time to run."
        },
        {
            "cell_type": "markdown",
            "metadata": {},
            "source": "mh_neigh_data.tail():\n\n          Borough    Neighborhood    Latitude    Longitude\n\n      35    Manhattan    Turtle Bay    40.752042    -73.967708\n\n      36    Manhattan    Tudor City    40.746917    -73.971219\n\n      37    Manhattan    Stuyvesant Town    40.731000    -73.974052\n\n      38    Manhattan    Flatiron    40.739673    -73.990947\n\n      39    Manhattan    Hudson Yards    40.756658    -74.000111"
        },
        {
            "cell_type": "markdown",
            "metadata": {},
            "source": "A list of Manhattan subway metro stops was complied in Numbers (Apple excel) and it was complemeted with wikipedia data ( https://en.wikipedia.org/wiki/List_of_New_York_City_Subway_stations_in_Manhattan) and information from NY Transit authority and Google maps (https://www.google.com/maps/search/manhattan+subway+metro+stations/@40.7837297,-74.1033043,11z/data=!3m1!4b1) for a final consolidated list of subway stops names and their address. The geolocation was obtained via an algorythm using Nominatim. Details will be shown in the execution of methodolody in section 3.0. The subway csv file is ''MH_subway.csv'\" and the data structure is: mhsub.tail(): sub_station sub_address lat long"
        },
        {
            "cell_type": "markdown",
            "metadata": {},
            "source": "  17    190 Street Subway Station    Bennett Ave, New York, NY 10040, USA    40.858113    -73.932983\n\n  18    59 St-Lexington Av Station    E 60th St, New York, NY 10065, USA        40.762259    -73.966271\n\n  19    57 Street Station    New York, NY 10019, United States                40.764250    -73.954525\n\n  20    14 Street / 8 Av    New York, NY 10014, United States                40.730862    -73.987156\n\n  21    MTA New York City    525 11th Ave, New York, NY 10018, USA            40.759809    -73.999282"
        },
        {
            "cell_type": "markdown",
            "metadata": {},
            "source": "A list of places for rent was collected by web-browsing real estate companies in Manhattan : http://www.rentmanhattan.com/index.cfm?page=search&state=results https://www.nestpick.com/search?city=new-york&page=1&order=relevance&district=manhattan&gclid=CjwKCAiAjNjgBRAgEiwAGLlf2hkP3A-cPxjZYkURqQEswQK2jKQEpv_MvKcrIhRWRzNkc_r-fGi0lxoCA7cQAvD_BwE&type=apartment&display=list https://www.realtor.com/apartments/Manhattan_NY A csv file was compiled with the rental place that indicated: areas of Manhattan, address, number of beds, area and monthly rental price. The csv file \"nnnn.csv\" had the following below structure. An algorythm was used to create all the geodata using Nominatim, as shown in section 3.0. The actual algorythm coding may be shown in 'markdown' mode becasues it takes time to run. With the use of geolocator = Nominatim() , it was possible to determine the latitude and longiude for the subway metro locations as well as for the geodata for each rental place listed. The loop algorythms used are shown in the execution of data in section 3.0 \"Great_circle\" function from geolocator was used to calculate distances between two points , as in the case to calculate average rent price for units around each subway station and at 1.6 km radius. Foursquare is used to find the avenues at Manhattan neighborhoods in general and a cluster is created to later be able to search for the venues depending of the location shown.\n\n\u200b"
        },
        {
            "cell_type": "markdown",
            "metadata": {},
            "source": "## 2.4 How the data will be used to solve the problem\n"
        },
        {
            "cell_type": "markdown",
            "metadata": {},
            "source": "The data will be used as follows: Use Foursquare and geopy data to map top 10 venues for all Manhattan neighborhoods and clustered in groups ( as per Course LAB) Use foursquare and geopy data to map the location of subway metro stations , separately and on top of the above clustered map in order to be able to identify the venues and ammenities near each metro station, or explore each subway location separately Use Foursquare and geopy data to map the location of rental places, in some form, linked to the subway locations. create a map that depicts, for instance, the average rental price per square ft, around a radious of 1.0 mile (1.6 km) around each subway station - or a similar metrics. I will be able to quickly point to the popups to know the relative price per subway area. Addresses from rental locations will be converted to geodata( lat, long) using Geopy-distance and Nominatim. Data will be searched in open data sources if available, from real estate sites if open to reading, libraries or other government agencies such as Metro New York MTA, etc."
        },
        {
            "cell_type": "markdown",
            "metadata": {},
            "source": "## 2.5 Mapping of Data"
        },
        {
            "cell_type": "code",
            "execution_count": null,
            "metadata": {},
            "outputs": [],
            "source": ""
        }
    ],
    "metadata": {
        "kernelspec": {
            "display_name": "Python 3.6",
            "language": "python",
            "name": "python3"
        },
        "language_info": {
            "codemirror_mode": {
                "name": "ipython",
                "version": 3
            },
            "file_extension": ".py",
            "mimetype": "text/x-python",
            "name": "python",
            "nbconvert_exporter": "python",
            "pygments_lexer": "ipython3",
            "version": "3.6.9"
        }
    },
    "nbformat": 4,
    "nbformat_minor": 1
}